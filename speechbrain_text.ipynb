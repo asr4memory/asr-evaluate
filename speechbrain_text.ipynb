{
 "cells": [
  {
   "cell_type": "code",
   "execution_count": 3,
   "metadata": {},
   "outputs": [],
   "source": [
    "from speechbrain.inference import EncoderDecoderASR"
   ]
  },
  {
   "cell_type": "code",
   "execution_count": null,
   "metadata": {},
   "outputs": [
    {
     "name": "stderr",
     "output_type": "stream",
     "text": [
      "INFO:speechbrain.utils.fetching:Fetch hyperparams.yaml: Fetching from HuggingFace Hub 'speechbrain/asr-crdnn-commonvoice-de' if not cached\n",
      "INFO:speechbrain.utils.fetching:Fetch custom.py: Fetching from HuggingFace Hub 'speechbrain/asr-crdnn-commonvoice-de' if not cached\n",
      "INFO:speechbrain.utils.fetching:Fetch normalizer.ckpt: Fetching from HuggingFace Hub 'speechbrain/asr-crdnn-commonvoice-de' if not cached\n",
      "INFO:speechbrain.utils.fetching:Fetch asr.ckpt: Fetching from HuggingFace Hub 'speechbrain/asr-crdnn-commonvoice-de' if not cached\n",
      "INFO:speechbrain.utils.fetching:Fetch tokenizer.ckpt: Fetching from HuggingFace Hub 'speechbrain/asr-crdnn-commonvoice-de' if not cached\n",
      "INFO:speechbrain.utils.parameter_transfer:Loading pretrained files for: normalizer, asr, tokenizer\n"
     ]
    }
   ],
   "source": [
    "asr_model = EncoderDecoderASR.from_hparams(source=\"speechbrain/asr-crdnn-commonvoice-de\", savedir=\"/Users/pkompiel/python_scripts/asr4memory/asr-evaluate/data/asr-crdnn-commonvoice-de\")\n",
    "result = asr_model.transcribe_file(\"/Users/pkompiel/python_scripts/asr4memory/asr-evaluate/data/pilot0026_01_01_original_240sec.wav\")"
   ]
  }
 ],
 "metadata": {
  "kernelspec": {
   "display_name": "asr-evaluate",
   "language": "python",
   "name": "python3"
  },
  "language_info": {
   "codemirror_mode": {
    "name": "ipython",
    "version": 3
   },
   "file_extension": ".py",
   "mimetype": "text/x-python",
   "name": "python",
   "nbconvert_exporter": "python",
   "pygments_lexer": "ipython3",
   "version": "3.10.15"
  }
 },
 "nbformat": 4,
 "nbformat_minor": 2
}
